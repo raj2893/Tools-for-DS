{
  "cells": [
    {
      "cell_type": "markdown",
      "metadata": {},
      "source": [
        "# Data Science Tools and Ecosystem"
      ]
    },
    {
      "cell_type": "markdown",
      "metadata": {},
      "source": [
        "In this notebook, Data Science Tools and Ecosystem are summarized."
      ]
    },
    {
      "cell_type": "markdown",
      "metadata": {},
      "source": [
        "**Objectives:**\n",
        "- Popular languages used for data science\n",
        "- Some commonly used libraries for data science\n",
        "- Tools used for data science"
      ]
    },
    {
      "cell_type": "markdown",
      "metadata": {},
      "source": [
        "Some of the popular languages that Data Scientists use are:\n",
        "\n",
        "    1. Julia\n",
        "    2. Python\n",
        "    3. R\n",
        "    4. Java\n",
        "    5. Scala"
      ]
    },
    {
      "cell_type": "markdown",
      "metadata": {},
      "source": [
        "Some of the commonly used libraries used by Data Scientists include:\n",
        "\n",
        "    1. TensorFlow\n",
        "    2. Scikit-Learn\n",
        "    3. Numpy\n",
        "    4. Pandas"
      ]
    },
    {
      "cell_type": "markdown",
      "metadata": {},
      "source": [
        "|Data Science Tools|\n",
        "|--- |\n",
        "| Matplotlib |\n",
        "| Watson Studio |\n",
        "| Scikit-learn |"
      ]
    },
    {
      "cell_type": "markdown",
      "metadata": {},
      "source": [
        "### Below are a few examples of evaluating arithmetic expressions in Python"
      ]
    },
    {
      "cell_type": "code",
      "execution_count": 5,
      "metadata": {
        "trusted": true
      },
      "outputs": [
        {
          "name": "stdout",
          "output_type": "stream",
          "text": [
            "17\n"
          ]
        }
      ],
      "source": [
        "print((3*4)+5)\n",
        "# This a simple arithmetic expression to mutiply then add integers"
      ]
    },
    {
      "cell_type": "code",
      "execution_count": 1,
      "metadata": {},
      "outputs": [
        {
          "name": "stdout",
          "output_type": "stream",
          "text": [
            "3.3333333333333335\n"
          ]
        }
      ],
      "source": [
        "# This will convert 200 minutes to hours by diving by 60\n",
        "Min = int(input('Enter minutes : '))\n",
        "Hours = Min/60\n",
        "print(f'{Hours}')"
      ]
    },
    {
      "cell_type": "markdown",
      "metadata": {},
      "source": [
        "## Author\n",
        "\n",
        "Raj Patel"
      ]
    }
  ],
  "metadata": {
    "kernelspec": {
      "display_name": "Python 3",
      "language": "python",
      "name": "python3"
    },
    "language_info": {
      "codemirror_mode": {
        "name": "ipython",
        "version": 3
      },
      "file_extension": ".py",
      "mimetype": "text/x-python",
      "name": "python",
      "nbconvert_exporter": "python",
      "pygments_lexer": "ipython3",
      "version": "3.11.3"
    }
  },
  "nbformat": 4,
  "nbformat_minor": 4
}
